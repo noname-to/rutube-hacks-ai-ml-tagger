{
 "cells": [
  {
   "cell_type": "code",
   "id": "initial_id",
   "metadata": {
    "collapsed": true,
    "ExecuteTime": {
     "end_time": "2024-09-29T03:47:34.368977Z",
     "start_time": "2024-09-29T03:47:34.367395Z"
    }
   },
   "source": [
    "# !pip3 install pandas numpy torch transformers scikit-learn\n",
    "# !pip3 install sentence-transformers"
   ],
   "outputs": [],
   "execution_count": 1
  },
  {
   "metadata": {
    "ExecuteTime": {
     "end_time": "2024-09-29T03:47:59.993359Z",
     "start_time": "2024-09-29T03:47:57.799025Z"
    }
   },
   "cell_type": "code",
   "source": [
    "import pandas as pd\n",
    "import numpy as np\n",
    "import torch\n",
    "from sentence_transformers import SentenceTransformer\n",
    "from sklearn.metrics.pairwise import cosine_similarity\n",
    "import re"
   ],
   "id": "748d59dbe9f51a3d",
   "outputs": [
    {
     "name": "stderr",
     "output_type": "stream",
     "text": [
      "/mnt/UDev/train_dataset_tag_video/venv/lib/python3.12/site-packages/sentence_transformers/cross_encoder/CrossEncoder.py:13: TqdmWarning: IProgress not found. Please update jupyter and ipywidgets. See https://ipywidgets.readthedocs.io/en/stable/user_install.html\n",
      "  from tqdm.autonotebook import tqdm, trange\n"
     ]
    }
   ],
   "execution_count": 2
  },
  {
   "metadata": {},
   "cell_type": "markdown",
   "source": "# Обработка текстовых данных",
   "id": "88f8d394f25b6f5f"
  },
  {
   "metadata": {
    "ExecuteTime": {
     "end_time": "2024-09-29T03:48:46.307355Z",
     "start_time": "2024-09-29T03:48:46.305017Z"
    }
   },
   "cell_type": "code",
   "source": [
    "def preprocess_text(text):\n",
    "    if not isinstance(text, str):\n",
    "        return ''\n",
    "    # Удаление лишних символов\n",
    "    text = text.replace('\\n', ' ').replace('\\r', ' ')\n",
    "    # Удаление лишних пробелов\n",
    "    text = re.sub(r'\\s+', ' ', text)\n",
    "    # Опционально: приведение к нижнему регистру (если используете uncased модель)\n",
    "    # text = text.lower()\n",
    "    return text.strip()"
   ],
   "id": "5179e7465195efb5",
   "outputs": [],
   "execution_count": 4
  },
  {
   "metadata": {
    "ExecuteTime": {
     "end_time": "2024-09-29T03:48:46.895978Z",
     "start_time": "2024-09-29T03:48:46.894417Z"
    }
   },
   "cell_type": "code",
   "source": "",
   "id": "a769ba0435d6327b",
   "outputs": [],
   "execution_count": null
  },
  {
   "metadata": {
    "ExecuteTime": {
     "end_time": "2024-09-29T03:48:47.189520Z",
     "start_time": "2024-09-29T03:48:47.172733Z"
    }
   },
   "cell_type": "code",
   "source": [
    "video_df = pd.read_csv('train_data_categories.csv')\n",
    "video_df.head()"
   ],
   "id": "255e996d9f79c4d3",
   "outputs": [
    {
     "data": {
      "text/plain": [
       "                           video_id  \\\n",
       "0  9007f33c8347924ffa12f922da2a179d   \n",
       "1  9012707c45233bd601dead57bc9e2eca   \n",
       "2  e01d6ebabbc27e323fa1b7c581e9b96a   \n",
       "3  a00b145242be3ebc3b311455e94917af   \n",
       "4  b01a682bf4dfcc09f1e8fac5bc18785a   \n",
       "\n",
       "                                               title  \\\n",
       "0  Пацанский клининг. Шоу «ЧистоТачка» | Повелите...   \n",
       "1  СarJitsu. 3 сезон, 6 серия. Нарек Симонян vs Ж...   \n",
       "2  Злые языки | Выпуск 1, Сезон 1 | Непорочность ...   \n",
       "3                 $1000 шоу | 1 выпуск | Автобоулинг   \n",
       "4                    В РОТ МНЕ НОТЫ #1 ВИТА ЧИКОВАНИ   \n",
       "\n",
       "                                         description  \\\n",
       "0  Тяпа и Егор бросили вызов нестареющему «повели...   \n",
       "1  CarJitsu — бои в формате POP MMA, где вместо р...   \n",
       "2  Почему Дана Борисова предпочитает молчать о по...   \n",
       "3  В этом выпуске, популярный автоблогер Дима Гор...   \n",
       "4  В первом выпуске «В рот мне ноты» популярная п...   \n",
       "\n",
       "                                                tags  \n",
       "0                   Массовая культура: Юмор и сатира  \n",
       "1  События и достопримечательности:  Спортивные с...  \n",
       "2  Массовая культура: Отношения знаменитостей, Ма...  \n",
       "3     Транспорт, Спорт: Автогонки, Массовая культура  \n",
       "4                   Массовая культура: Юмор и сатира  "
      ],
      "text/html": [
       "<div>\n",
       "<style scoped>\n",
       "    .dataframe tbody tr th:only-of-type {\n",
       "        vertical-align: middle;\n",
       "    }\n",
       "\n",
       "    .dataframe tbody tr th {\n",
       "        vertical-align: top;\n",
       "    }\n",
       "\n",
       "    .dataframe thead th {\n",
       "        text-align: right;\n",
       "    }\n",
       "</style>\n",
       "<table border=\"1\" class=\"dataframe\">\n",
       "  <thead>\n",
       "    <tr style=\"text-align: right;\">\n",
       "      <th></th>\n",
       "      <th>video_id</th>\n",
       "      <th>title</th>\n",
       "      <th>description</th>\n",
       "      <th>tags</th>\n",
       "    </tr>\n",
       "  </thead>\n",
       "  <tbody>\n",
       "    <tr>\n",
       "      <th>0</th>\n",
       "      <td>9007f33c8347924ffa12f922da2a179d</td>\n",
       "      <td>Пацанский клининг. Шоу «ЧистоТачка» | Повелите...</td>\n",
       "      <td>Тяпа и Егор бросили вызов нестареющему «повели...</td>\n",
       "      <td>Массовая культура: Юмор и сатира</td>\n",
       "    </tr>\n",
       "    <tr>\n",
       "      <th>1</th>\n",
       "      <td>9012707c45233bd601dead57bc9e2eca</td>\n",
       "      <td>СarJitsu. 3 сезон, 6 серия. Нарек Симонян vs Ж...</td>\n",
       "      <td>CarJitsu — бои в формате POP MMA, где вместо р...</td>\n",
       "      <td>События и достопримечательности:  Спортивные с...</td>\n",
       "    </tr>\n",
       "    <tr>\n",
       "      <th>2</th>\n",
       "      <td>e01d6ebabbc27e323fa1b7c581e9b96a</td>\n",
       "      <td>Злые языки | Выпуск 1, Сезон 1 | Непорочность ...</td>\n",
       "      <td>Почему Дана Борисова предпочитает молчать о по...</td>\n",
       "      <td>Массовая культура: Отношения знаменитостей, Ма...</td>\n",
       "    </tr>\n",
       "    <tr>\n",
       "      <th>3</th>\n",
       "      <td>a00b145242be3ebc3b311455e94917af</td>\n",
       "      <td>$1000 шоу | 1 выпуск | Автобоулинг</td>\n",
       "      <td>В этом выпуске, популярный автоблогер Дима Гор...</td>\n",
       "      <td>Транспорт, Спорт: Автогонки, Массовая культура</td>\n",
       "    </tr>\n",
       "    <tr>\n",
       "      <th>4</th>\n",
       "      <td>b01a682bf4dfcc09f1e8fac5bc18785a</td>\n",
       "      <td>В РОТ МНЕ НОТЫ #1 ВИТА ЧИКОВАНИ</td>\n",
       "      <td>В первом выпуске «В рот мне ноты» популярная п...</td>\n",
       "      <td>Массовая культура: Юмор и сатира</td>\n",
       "    </tr>\n",
       "  </tbody>\n",
       "</table>\n",
       "</div>"
      ]
     },
     "execution_count": 5,
     "metadata": {},
     "output_type": "execute_result"
    }
   ],
   "execution_count": 5
  },
  {
   "metadata": {
    "ExecuteTime": {
     "end_time": "2024-09-29T03:49:00.187824Z",
     "start_time": "2024-09-29T03:49:00.168530Z"
    }
   },
   "cell_type": "code",
   "source": [
    "video_df['title_clean'] = video_df['title'].apply(preprocess_text)\n",
    "video_df['description_clean'] = video_df['description'].apply(preprocess_text)\n",
    "video_df.head()"
   ],
   "id": "d6cda03bac9be90a",
   "outputs": [
    {
     "data": {
      "text/plain": [
       "                           video_id  \\\n",
       "0  9007f33c8347924ffa12f922da2a179d   \n",
       "1  9012707c45233bd601dead57bc9e2eca   \n",
       "2  e01d6ebabbc27e323fa1b7c581e9b96a   \n",
       "3  a00b145242be3ebc3b311455e94917af   \n",
       "4  b01a682bf4dfcc09f1e8fac5bc18785a   \n",
       "\n",
       "                                               title  \\\n",
       "0  Пацанский клининг. Шоу «ЧистоТачка» | Повелите...   \n",
       "1  СarJitsu. 3 сезон, 6 серия. Нарек Симонян vs Ж...   \n",
       "2  Злые языки | Выпуск 1, Сезон 1 | Непорочность ...   \n",
       "3                 $1000 шоу | 1 выпуск | Автобоулинг   \n",
       "4                    В РОТ МНЕ НОТЫ #1 ВИТА ЧИКОВАНИ   \n",
       "\n",
       "                                         description  \\\n",
       "0  Тяпа и Егор бросили вызов нестареющему «повели...   \n",
       "1  CarJitsu — бои в формате POP MMA, где вместо р...   \n",
       "2  Почему Дана Борисова предпочитает молчать о по...   \n",
       "3  В этом выпуске, популярный автоблогер Дима Гор...   \n",
       "4  В первом выпуске «В рот мне ноты» популярная п...   \n",
       "\n",
       "                                                tags  \\\n",
       "0                   Массовая культура: Юмор и сатира   \n",
       "1  События и достопримечательности:  Спортивные с...   \n",
       "2  Массовая культура: Отношения знаменитостей, Ма...   \n",
       "3     Транспорт, Спорт: Автогонки, Массовая культура   \n",
       "4                   Массовая культура: Юмор и сатира   \n",
       "\n",
       "                                         title_clean  \\\n",
       "0  Пацанский клининг. Шоу «ЧистоТачка» | Повелите...   \n",
       "1  СarJitsu. 3 сезон, 6 серия. Нарек Симонян vs Ж...   \n",
       "2  Злые языки | Выпуск 1, Сезон 1 | Непорочность ...   \n",
       "3                 $1000 шоу | 1 выпуск | Автобоулинг   \n",
       "4                    В РОТ МНЕ НОТЫ #1 ВИТА ЧИКОВАНИ   \n",
       "\n",
       "                                   description_clean  \n",
       "0  Тяпа и Егор бросили вызов нестареющему «повели...  \n",
       "1  CarJitsu — бои в формате POP MMA, где вместо р...  \n",
       "2  Почему Дана Борисова предпочитает молчать о по...  \n",
       "3  В этом выпуске, популярный автоблогер Дима Гор...  \n",
       "4  В первом выпуске «В рот мне ноты» популярная п...  "
      ],
      "text/html": [
       "<div>\n",
       "<style scoped>\n",
       "    .dataframe tbody tr th:only-of-type {\n",
       "        vertical-align: middle;\n",
       "    }\n",
       "\n",
       "    .dataframe tbody tr th {\n",
       "        vertical-align: top;\n",
       "    }\n",
       "\n",
       "    .dataframe thead th {\n",
       "        text-align: right;\n",
       "    }\n",
       "</style>\n",
       "<table border=\"1\" class=\"dataframe\">\n",
       "  <thead>\n",
       "    <tr style=\"text-align: right;\">\n",
       "      <th></th>\n",
       "      <th>video_id</th>\n",
       "      <th>title</th>\n",
       "      <th>description</th>\n",
       "      <th>tags</th>\n",
       "      <th>title_clean</th>\n",
       "      <th>description_clean</th>\n",
       "    </tr>\n",
       "  </thead>\n",
       "  <tbody>\n",
       "    <tr>\n",
       "      <th>0</th>\n",
       "      <td>9007f33c8347924ffa12f922da2a179d</td>\n",
       "      <td>Пацанский клининг. Шоу «ЧистоТачка» | Повелите...</td>\n",
       "      <td>Тяпа и Егор бросили вызов нестареющему «повели...</td>\n",
       "      <td>Массовая культура: Юмор и сатира</td>\n",
       "      <td>Пацанский клининг. Шоу «ЧистоТачка» | Повелите...</td>\n",
       "      <td>Тяпа и Егор бросили вызов нестареющему «повели...</td>\n",
       "    </tr>\n",
       "    <tr>\n",
       "      <th>1</th>\n",
       "      <td>9012707c45233bd601dead57bc9e2eca</td>\n",
       "      <td>СarJitsu. 3 сезон, 6 серия. Нарек Симонян vs Ж...</td>\n",
       "      <td>CarJitsu — бои в формате POP MMA, где вместо р...</td>\n",
       "      <td>События и достопримечательности:  Спортивные с...</td>\n",
       "      <td>СarJitsu. 3 сезон, 6 серия. Нарек Симонян vs Ж...</td>\n",
       "      <td>CarJitsu — бои в формате POP MMA, где вместо р...</td>\n",
       "    </tr>\n",
       "    <tr>\n",
       "      <th>2</th>\n",
       "      <td>e01d6ebabbc27e323fa1b7c581e9b96a</td>\n",
       "      <td>Злые языки | Выпуск 1, Сезон 1 | Непорочность ...</td>\n",
       "      <td>Почему Дана Борисова предпочитает молчать о по...</td>\n",
       "      <td>Массовая культура: Отношения знаменитостей, Ма...</td>\n",
       "      <td>Злые языки | Выпуск 1, Сезон 1 | Непорочность ...</td>\n",
       "      <td>Почему Дана Борисова предпочитает молчать о по...</td>\n",
       "    </tr>\n",
       "    <tr>\n",
       "      <th>3</th>\n",
       "      <td>a00b145242be3ebc3b311455e94917af</td>\n",
       "      <td>$1000 шоу | 1 выпуск | Автобоулинг</td>\n",
       "      <td>В этом выпуске, популярный автоблогер Дима Гор...</td>\n",
       "      <td>Транспорт, Спорт: Автогонки, Массовая культура</td>\n",
       "      <td>$1000 шоу | 1 выпуск | Автобоулинг</td>\n",
       "      <td>В этом выпуске, популярный автоблогер Дима Гор...</td>\n",
       "    </tr>\n",
       "    <tr>\n",
       "      <th>4</th>\n",
       "      <td>b01a682bf4dfcc09f1e8fac5bc18785a</td>\n",
       "      <td>В РОТ МНЕ НОТЫ #1 ВИТА ЧИКОВАНИ</td>\n",
       "      <td>В первом выпуске «В рот мне ноты» популярная п...</td>\n",
       "      <td>Массовая культура: Юмор и сатира</td>\n",
       "      <td>В РОТ МНЕ НОТЫ #1 ВИТА ЧИКОВАНИ</td>\n",
       "      <td>В первом выпуске «В рот мне ноты» популярная п...</td>\n",
       "    </tr>\n",
       "  </tbody>\n",
       "</table>\n",
       "</div>"
      ]
     },
     "execution_count": 7,
     "metadata": {},
     "output_type": "execute_result"
    }
   ],
   "execution_count": 7
  },
  {
   "metadata": {
    "ExecuteTime": {
     "end_time": "2024-09-29T03:50:18.422725Z",
     "start_time": "2024-09-29T03:50:18.385760Z"
    }
   },
   "cell_type": "code",
   "source": [
    "rus_df = pd.read_json('rus.json').T\n",
    "rus_df.head()"
   ],
   "id": "6e2d016074cdd89f",
   "outputs": [
    {
     "data": {
      "text/plain": [
       "                                                                              audio  \\\n",
       "00efa58930724f2ae6f9916f53cda3b3  {'0': ' Деньги в онлайн-магазинах', '1': ' Муж...   \n",
       "01bd6b00e670655ca7ff484ff55d8ad9  {'0': ' рождения точно. Да, в вашем случае, Се...   \n",
       "01dcabe37935dbbffd389c22c327f361  {'0': ' Субтитры подогнал «Симон» Друзья, добр...   \n",
       "02b797508b9ffc941887703dfb17d365  {'0': ' Я сказал, смотрите на меня, я же выгля...   \n",
       "02d4cc029c5a7531f36992446a24478f  {'0': ' здесь сабли написано я могу сказать чт...   \n",
       "\n",
       "                                                                              video  \n",
       "00efa58930724f2ae6f9916f53cda3b3  1. Self-care\\n2. Mental health\\n3. Stress mana...  \n",
       "01bd6b00e670655ca7ff484ff55d8ad9  1. Physical Fitness\\n2. Strength Training\\n3. ...  \n",
       "01dcabe37935dbbffd389c22c327f361  1. Cartoon\\n2. Humor\\n3. Animation\\n4. Comedy\\...  \n",
       "02b797508b9ffc941887703dfb17d365  Sure, I'd be happy to help! Here are some tags...  \n",
       "02d4cc029c5a7531f36992446a24478f  Sure, I'd be happy to help! Here are some tags...  "
      ],
      "text/html": [
       "<div>\n",
       "<style scoped>\n",
       "    .dataframe tbody tr th:only-of-type {\n",
       "        vertical-align: middle;\n",
       "    }\n",
       "\n",
       "    .dataframe tbody tr th {\n",
       "        vertical-align: top;\n",
       "    }\n",
       "\n",
       "    .dataframe thead th {\n",
       "        text-align: right;\n",
       "    }\n",
       "</style>\n",
       "<table border=\"1\" class=\"dataframe\">\n",
       "  <thead>\n",
       "    <tr style=\"text-align: right;\">\n",
       "      <th></th>\n",
       "      <th>audio</th>\n",
       "      <th>video</th>\n",
       "    </tr>\n",
       "  </thead>\n",
       "  <tbody>\n",
       "    <tr>\n",
       "      <th>00efa58930724f2ae6f9916f53cda3b3</th>\n",
       "      <td>{'0': ' Деньги в онлайн-магазинах', '1': ' Муж...</td>\n",
       "      <td>1. Self-care\\n2. Mental health\\n3. Stress mana...</td>\n",
       "    </tr>\n",
       "    <tr>\n",
       "      <th>01bd6b00e670655ca7ff484ff55d8ad9</th>\n",
       "      <td>{'0': ' рождения точно. Да, в вашем случае, Се...</td>\n",
       "      <td>1. Physical Fitness\\n2. Strength Training\\n3. ...</td>\n",
       "    </tr>\n",
       "    <tr>\n",
       "      <th>01dcabe37935dbbffd389c22c327f361</th>\n",
       "      <td>{'0': ' Субтитры подогнал «Симон» Друзья, добр...</td>\n",
       "      <td>1. Cartoon\\n2. Humor\\n3. Animation\\n4. Comedy\\...</td>\n",
       "    </tr>\n",
       "    <tr>\n",
       "      <th>02b797508b9ffc941887703dfb17d365</th>\n",
       "      <td>{'0': ' Я сказал, смотрите на меня, я же выгля...</td>\n",
       "      <td>Sure, I'd be happy to help! Here are some tags...</td>\n",
       "    </tr>\n",
       "    <tr>\n",
       "      <th>02d4cc029c5a7531f36992446a24478f</th>\n",
       "      <td>{'0': ' здесь сабли написано я могу сказать чт...</td>\n",
       "      <td>Sure, I'd be happy to help! Here are some tags...</td>\n",
       "    </tr>\n",
       "  </tbody>\n",
       "</table>\n",
       "</div>"
      ]
     },
     "execution_count": 8,
     "metadata": {},
     "output_type": "execute_result"
    }
   ],
   "execution_count": 8
  },
  {
   "metadata": {
    "ExecuteTime": {
     "end_time": "2024-09-29T03:50:37.264640Z",
     "start_time": "2024-09-29T03:50:37.262682Z"
    }
   },
   "cell_type": "code",
   "source": [
    "def process_audio(audio):\n",
    "    if isinstance(audio, dict):\n",
    "        return ' '.join(audio.values())\n",
    "    elif isinstance(audio, str):\n",
    "        return audio\n",
    "    else:\n",
    "        return ''"
   ],
   "id": "c54f1b9c5a0d4705",
   "outputs": [],
   "execution_count": 9
  },
  {
   "metadata": {
    "ExecuteTime": {
     "end_time": "2024-09-29T03:50:51.038213Z",
     "start_time": "2024-09-29T03:50:51.033021Z"
    }
   },
   "cell_type": "code",
   "source": [
    "import re\n",
    "\n",
    "def extract_tags_from_description(description):\n",
    "    if not isinstance(description, str):\n",
    "        return ''\n",
    "    \n",
    "    description = description.strip().replace('\\n', ' ')\n",
    "    pattern = r'\\d+\\.\\s*(.*?)\\s*(?=\\d+\\.|$)'\n",
    "    matches = re.findall(pattern, description)\n",
    "    tags = [match.strip().strip('.').strip(',') for match in matches]\n",
    "    tags_text = ' '.join(tags)\n",
    "    \n",
    "    return tags_text\n",
    "\n",
    "\n",
    "\n",
    "rus_df['video_clean'] = rus_df['video'].apply(extract_tags_from_description)\n",
    "rus_df['video_clean'] = rus_df['video_clean'].apply(preprocess_text)\n",
    "rus_df['video_clean'].head()"
   ],
   "id": "623649f2a0989a8a",
   "outputs": [
    {
     "data": {
      "text/plain": [
       "00efa58930724f2ae6f9916f53cda3b3    Self-care Mental health Stress management Pers...\n",
       "01bd6b00e670655ca7ff484ff55d8ad9    Physical Fitness Strength Training Fitness Mot...\n",
       "01dcabe37935dbbffd389c22c327f361       Cartoon Humor Animation Comedy Family-friendly\n",
       "02b797508b9ffc941887703dfb17d365    Health and wellness Self-care Stress managemen...\n",
       "02d4cc029c5a7531f36992446a24478f    Time management Productivity Work-life balance...\n",
       "Name: video_clean, dtype: object"
      ]
     },
     "execution_count": 10,
     "metadata": {},
     "output_type": "execute_result"
    }
   ],
   "execution_count": 10
  },
  {
   "metadata": {
    "ExecuteTime": {
     "end_time": "2024-09-29T03:52:01.640077Z",
     "start_time": "2024-09-29T03:52:01.593708Z"
    }
   },
   "cell_type": "code",
   "source": [
    "rus_df['audio_clean'] = rus_df['audio'].apply(process_audio)\n",
    "rus_df['audio_clean'] = rus_df['audio_clean'].apply(preprocess_text)\n",
    "rus_df['audio_clean'].head()\n",
    "\n",
    "# set id column as new column\n",
    "rus_df = rus_df.reset_index()\n",
    "rus_df = rus_df.rename(columns={'index': 'video_id'})"
   ],
   "id": "c77ef9f6ace58d6d",
   "outputs": [],
   "execution_count": 14
  },
  {
   "metadata": {
    "ExecuteTime": {
     "end_time": "2024-09-29T03:52:02.438220Z",
     "start_time": "2024-09-29T03:52:02.432286Z"
    }
   },
   "cell_type": "code",
   "source": "rus_df.head()",
   "id": "298d1a232f768ccc",
   "outputs": [
    {
     "data": {
      "text/plain": [
       "   level_0                          video_id  \\\n",
       "0        0  00efa58930724f2ae6f9916f53cda3b3   \n",
       "1        1  01bd6b00e670655ca7ff484ff55d8ad9   \n",
       "2        2  01dcabe37935dbbffd389c22c327f361   \n",
       "3        3  02b797508b9ffc941887703dfb17d365   \n",
       "4        4  02d4cc029c5a7531f36992446a24478f   \n",
       "\n",
       "                                               audio  \\\n",
       "0  {'0': ' Деньги в онлайн-магазинах', '1': ' Муж...   \n",
       "1  {'0': ' рождения точно. Да, в вашем случае, Се...   \n",
       "2  {'0': ' Субтитры подогнал «Симон» Друзья, добр...   \n",
       "3  {'0': ' Я сказал, смотрите на меня, я же выгля...   \n",
       "4  {'0': ' здесь сабли написано я могу сказать чт...   \n",
       "\n",
       "                                               video  \\\n",
       "0  1. Self-care\\n2. Mental health\\n3. Stress mana...   \n",
       "1  1. Physical Fitness\\n2. Strength Training\\n3. ...   \n",
       "2  1. Cartoon\\n2. Humor\\n3. Animation\\n4. Comedy\\...   \n",
       "3  Sure, I'd be happy to help! Here are some tags...   \n",
       "4  Sure, I'd be happy to help! Here are some tags...   \n",
       "\n",
       "                                         video_clean  \\\n",
       "0  Self-care Mental health Stress management Pers...   \n",
       "1  Physical Fitness Strength Training Fitness Mot...   \n",
       "2     Cartoon Humor Animation Comedy Family-friendly   \n",
       "3  Health and wellness Self-care Stress managemen...   \n",
       "4  Time management Productivity Work-life balance...   \n",
       "\n",
       "                                         audio_clean  \n",
       "0  Деньги в онлайн-магазинах Мужчины Ты еще молот...  \n",
       "1  рождения точно. Да, в вашем случае, Сергей, им...  \n",
       "2  Субтитры подогнал «Симон» Друзья, добрый вечер...  \n",
       "3  Я сказал, смотрите на меня, я же выгляжу не ка...  \n",
       "4  здесь сабли написано я могу сказать что вот са...  "
      ],
      "text/html": [
       "<div>\n",
       "<style scoped>\n",
       "    .dataframe tbody tr th:only-of-type {\n",
       "        vertical-align: middle;\n",
       "    }\n",
       "\n",
       "    .dataframe tbody tr th {\n",
       "        vertical-align: top;\n",
       "    }\n",
       "\n",
       "    .dataframe thead th {\n",
       "        text-align: right;\n",
       "    }\n",
       "</style>\n",
       "<table border=\"1\" class=\"dataframe\">\n",
       "  <thead>\n",
       "    <tr style=\"text-align: right;\">\n",
       "      <th></th>\n",
       "      <th>level_0</th>\n",
       "      <th>video_id</th>\n",
       "      <th>audio</th>\n",
       "      <th>video</th>\n",
       "      <th>video_clean</th>\n",
       "      <th>audio_clean</th>\n",
       "    </tr>\n",
       "  </thead>\n",
       "  <tbody>\n",
       "    <tr>\n",
       "      <th>0</th>\n",
       "      <td>0</td>\n",
       "      <td>00efa58930724f2ae6f9916f53cda3b3</td>\n",
       "      <td>{'0': ' Деньги в онлайн-магазинах', '1': ' Муж...</td>\n",
       "      <td>1. Self-care\\n2. Mental health\\n3. Stress mana...</td>\n",
       "      <td>Self-care Mental health Stress management Pers...</td>\n",
       "      <td>Деньги в онлайн-магазинах Мужчины Ты еще молот...</td>\n",
       "    </tr>\n",
       "    <tr>\n",
       "      <th>1</th>\n",
       "      <td>1</td>\n",
       "      <td>01bd6b00e670655ca7ff484ff55d8ad9</td>\n",
       "      <td>{'0': ' рождения точно. Да, в вашем случае, Се...</td>\n",
       "      <td>1. Physical Fitness\\n2. Strength Training\\n3. ...</td>\n",
       "      <td>Physical Fitness Strength Training Fitness Mot...</td>\n",
       "      <td>рождения точно. Да, в вашем случае, Сергей, им...</td>\n",
       "    </tr>\n",
       "    <tr>\n",
       "      <th>2</th>\n",
       "      <td>2</td>\n",
       "      <td>01dcabe37935dbbffd389c22c327f361</td>\n",
       "      <td>{'0': ' Субтитры подогнал «Симон» Друзья, добр...</td>\n",
       "      <td>1. Cartoon\\n2. Humor\\n3. Animation\\n4. Comedy\\...</td>\n",
       "      <td>Cartoon Humor Animation Comedy Family-friendly</td>\n",
       "      <td>Субтитры подогнал «Симон» Друзья, добрый вечер...</td>\n",
       "    </tr>\n",
       "    <tr>\n",
       "      <th>3</th>\n",
       "      <td>3</td>\n",
       "      <td>02b797508b9ffc941887703dfb17d365</td>\n",
       "      <td>{'0': ' Я сказал, смотрите на меня, я же выгля...</td>\n",
       "      <td>Sure, I'd be happy to help! Here are some tags...</td>\n",
       "      <td>Health and wellness Self-care Stress managemen...</td>\n",
       "      <td>Я сказал, смотрите на меня, я же выгляжу не ка...</td>\n",
       "    </tr>\n",
       "    <tr>\n",
       "      <th>4</th>\n",
       "      <td>4</td>\n",
       "      <td>02d4cc029c5a7531f36992446a24478f</td>\n",
       "      <td>{'0': ' здесь сабли написано я могу сказать чт...</td>\n",
       "      <td>Sure, I'd be happy to help! Here are some tags...</td>\n",
       "      <td>Time management Productivity Work-life balance...</td>\n",
       "      <td>здесь сабли написано я могу сказать что вот са...</td>\n",
       "    </tr>\n",
       "  </tbody>\n",
       "</table>\n",
       "</div>"
      ]
     },
     "execution_count": 15,
     "metadata": {},
     "output_type": "execute_result"
    }
   ],
   "execution_count": 15
  },
  {
   "metadata": {
    "ExecuteTime": {
     "end_time": "2024-09-29T03:52:06.690709Z",
     "start_time": "2024-09-29T03:52:06.686045Z"
    }
   },
   "cell_type": "code",
   "source": [
    "df = video_df.copy()\n",
    "df = pd.merge(video_df, rus_df, on='video_id', how='left')\n",
    "\n",
    "# Проверим размеры\n",
    "print(f\"Количество видео после объединения: {len(df)}\") "
   ],
   "id": "6693ec34ec3fa85d",
   "outputs": [
    {
     "name": "stdout",
     "output_type": "stream",
     "text": [
      "Количество видео после объединения: 1049\n"
     ]
    }
   ],
   "execution_count": 16
  },
  {
   "metadata": {
    "ExecuteTime": {
     "end_time": "2024-09-29T03:52:18.899334Z",
     "start_time": "2024-09-29T03:52:18.893289Z"
    }
   },
   "cell_type": "code",
   "source": [
    "df_clean = df[['video_id', 'title_clean', 'description_clean', 'video_clean', 'audio_clean']]\n",
    "df_clean.head()"
   ],
   "id": "acf7d192d7d92db7",
   "outputs": [
    {
     "data": {
      "text/plain": [
       "                           video_id  \\\n",
       "0  9007f33c8347924ffa12f922da2a179d   \n",
       "1  9012707c45233bd601dead57bc9e2eca   \n",
       "2  e01d6ebabbc27e323fa1b7c581e9b96a   \n",
       "3  a00b145242be3ebc3b311455e94917af   \n",
       "4  b01a682bf4dfcc09f1e8fac5bc18785a   \n",
       "\n",
       "                                         title_clean  \\\n",
       "0  Пацанский клининг. Шоу «ЧистоТачка» | Повелите...   \n",
       "1  СarJitsu. 3 сезон, 6 серия. Нарек Симонян vs Ж...   \n",
       "2  Злые языки | Выпуск 1, Сезон 1 | Непорочность ...   \n",
       "3                 $1000 шоу | 1 выпуск | Автобоулинг   \n",
       "4                    В РОТ МНЕ НОТЫ #1 ВИТА ЧИКОВАНИ   \n",
       "\n",
       "                                   description_clean video_clean audio_clean  \n",
       "0  Тяпа и Егор бросили вызов нестареющему «повели...         NaN         NaN  \n",
       "1  CarJitsu — бои в формате POP MMA, где вместо р...         NaN         NaN  \n",
       "2  Почему Дана Борисова предпочитает молчать о по...         NaN         NaN  \n",
       "3  В этом выпуске, популярный автоблогер Дима Гор...         NaN         NaN  \n",
       "4  В первом выпуске «В рот мне ноты» популярная п...         NaN         NaN  "
      ],
      "text/html": [
       "<div>\n",
       "<style scoped>\n",
       "    .dataframe tbody tr th:only-of-type {\n",
       "        vertical-align: middle;\n",
       "    }\n",
       "\n",
       "    .dataframe tbody tr th {\n",
       "        vertical-align: top;\n",
       "    }\n",
       "\n",
       "    .dataframe thead th {\n",
       "        text-align: right;\n",
       "    }\n",
       "</style>\n",
       "<table border=\"1\" class=\"dataframe\">\n",
       "  <thead>\n",
       "    <tr style=\"text-align: right;\">\n",
       "      <th></th>\n",
       "      <th>video_id</th>\n",
       "      <th>title_clean</th>\n",
       "      <th>description_clean</th>\n",
       "      <th>video_clean</th>\n",
       "      <th>audio_clean</th>\n",
       "    </tr>\n",
       "  </thead>\n",
       "  <tbody>\n",
       "    <tr>\n",
       "      <th>0</th>\n",
       "      <td>9007f33c8347924ffa12f922da2a179d</td>\n",
       "      <td>Пацанский клининг. Шоу «ЧистоТачка» | Повелите...</td>\n",
       "      <td>Тяпа и Егор бросили вызов нестареющему «повели...</td>\n",
       "      <td>NaN</td>\n",
       "      <td>NaN</td>\n",
       "    </tr>\n",
       "    <tr>\n",
       "      <th>1</th>\n",
       "      <td>9012707c45233bd601dead57bc9e2eca</td>\n",
       "      <td>СarJitsu. 3 сезон, 6 серия. Нарек Симонян vs Ж...</td>\n",
       "      <td>CarJitsu — бои в формате POP MMA, где вместо р...</td>\n",
       "      <td>NaN</td>\n",
       "      <td>NaN</td>\n",
       "    </tr>\n",
       "    <tr>\n",
       "      <th>2</th>\n",
       "      <td>e01d6ebabbc27e323fa1b7c581e9b96a</td>\n",
       "      <td>Злые языки | Выпуск 1, Сезон 1 | Непорочность ...</td>\n",
       "      <td>Почему Дана Борисова предпочитает молчать о по...</td>\n",
       "      <td>NaN</td>\n",
       "      <td>NaN</td>\n",
       "    </tr>\n",
       "    <tr>\n",
       "      <th>3</th>\n",
       "      <td>a00b145242be3ebc3b311455e94917af</td>\n",
       "      <td>$1000 шоу | 1 выпуск | Автобоулинг</td>\n",
       "      <td>В этом выпуске, популярный автоблогер Дима Гор...</td>\n",
       "      <td>NaN</td>\n",
       "      <td>NaN</td>\n",
       "    </tr>\n",
       "    <tr>\n",
       "      <th>4</th>\n",
       "      <td>b01a682bf4dfcc09f1e8fac5bc18785a</td>\n",
       "      <td>В РОТ МНЕ НОТЫ #1 ВИТА ЧИКОВАНИ</td>\n",
       "      <td>В первом выпуске «В рот мне ноты» популярная п...</td>\n",
       "      <td>NaN</td>\n",
       "      <td>NaN</td>\n",
       "    </tr>\n",
       "  </tbody>\n",
       "</table>\n",
       "</div>"
      ]
     },
     "execution_count": 17,
     "metadata": {},
     "output_type": "execute_result"
    }
   ],
   "execution_count": 17
  },
  {
   "metadata": {
    "ExecuteTime": {
     "end_time": "2024-09-29T03:52:40.282592Z",
     "start_time": "2024-09-29T03:52:40.278276Z"
    }
   },
   "cell_type": "code",
   "source": [
    "df_clean = df_clean.fillna('')\n",
    "df_clean.isna().sum()"
   ],
   "id": "36dd17b60b6fd1b",
   "outputs": [
    {
     "data": {
      "text/plain": [
       "video_id             0\n",
       "title_clean          0\n",
       "description_clean    0\n",
       "video_clean          0\n",
       "audio_clean          0\n",
       "dtype: int64"
      ]
     },
     "execution_count": 19,
     "metadata": {},
     "output_type": "execute_result"
    }
   ],
   "execution_count": 19
  },
  {
   "metadata": {},
   "cell_type": "markdown",
   "source": "# Загрузка тегов",
   "id": "f3c299640d6c61af"
  },
  {
   "metadata": {
    "ExecuteTime": {
     "end_time": "2024-09-29T04:22:26.948306Z",
     "start_time": "2024-09-29T04:22:26.937362Z"
    }
   },
   "cell_type": "code",
   "source": [
    "tags_df = pd.read_csv('IAB_tags.csv')  # Замените на ваш файл\n",
    "tags_df = tags_df[['Уровень 1 (iab)', 'Уровень 2 (iab)', 'Уровень 3 (iab)']].fillna('')\n",
    "\n",
    "# Объединение уровней тегов\n",
    "def combine_tag_levels(row):\n",
    "    tags = [row['Уровень 1 (iab)'], row['Уровень 2 (iab)'], row['Уровень 3 (iab)']]\n",
    "    tags = [tag.strip() for tag in tags if tag.strip()]\n",
    "    return ': '.join(tags)\n",
    "\n",
    "tags_df['full_tag'] = tags_df.apply(combine_tag_levels, axis=1)"
   ],
   "id": "d6b79bf1a7ca706e",
   "outputs": [],
   "execution_count": 24
  },
  {
   "metadata": {
    "ExecuteTime": {
     "end_time": "2024-09-29T03:57:38.760484Z",
     "start_time": "2024-09-29T03:54:32.020754Z"
    }
   },
   "cell_type": "code",
   "source": [
    "from transformers import AutoTokenizer, AutoModel\n",
    "\n",
    "# Установка устройства\n",
    "device = torch.device('cuda' if torch.cuda.is_available() else 'cpu')\n",
    "print(f'Используемое устройство: {device}')\n",
    "\n",
    "model_name = 'paraphrase-multilingual-mpnet-base-v2'\n",
    "model = SentenceTransformer(model_name, device=device)"
   ],
   "id": "43c41f34307733b0",
   "outputs": [
    {
     "name": "stdout",
     "output_type": "stream",
     "text": [
      "Используемое устройство: cuda\n"
     ]
    },
    {
     "name": "stderr",
     "output_type": "stream",
     "text": [
      "/mnt/UDev/train_dataset_tag_video/venv/lib/python3.12/site-packages/transformers/tokenization_utils_base.py:1617: FutureWarning: `clean_up_tokenization_spaces` was not set. It will be set to `True` by default. This behavior will be deprecated in transformers v4.45, and will be then set to `False` by default. For more details check this issue: https://github.com/huggingface/transformers/issues/31884\n",
      "  warnings.warn(\n"
     ]
    }
   ],
   "execution_count": 21
  },
  {
   "metadata": {},
   "cell_type": "markdown",
   "source": [
    "# Case 1\n",
    "\n"
   ],
   "id": "a43f823c165e964c"
  },
  {
   "metadata": {
    "ExecuteTime": {
     "end_time": "2024-09-29T04:22:58.834453Z",
     "start_time": "2024-09-29T04:22:52.412176Z"
    }
   },
   "cell_type": "code",
   "source": [
    "df_clean['combined_text'] = df_clean['title_clean'] + ' ' + df_clean['description_clean']\n",
    "df_clean['embedding'] = df_clean['combined_text'].apply(lambda x: model.encode(x, convert_to_tensor=True))\n",
    "tags_df['embedding'] = tags_df['full_tag'].apply(lambda x: model.encode(x, convert_to_tensor=True))\n",
    "\n"
   ],
   "id": "1791d8e58c74924c",
   "outputs": [],
   "execution_count": 26
  },
  {
   "metadata": {
    "ExecuteTime": {
     "end_time": "2024-09-29T04:26:27.657074Z",
     "start_time": "2024-09-29T04:26:26.140836Z"
    }
   },
   "cell_type": "code",
   "source": [
    "tag_embeddings = torch.stack(tags_df['embedding'].tolist())\n",
    "tag_list = tags_df['full_tag'].tolist()\n",
    "\n",
    "def assign_tags(video_embedding, tag_embeddings, tags, top_k=4):\n",
    "    similarities = cosine_similarity(video_embedding.cpu().numpy(), tag_embeddings.cpu().numpy())[0]\n",
    "    top_indices = similarities.argsort()[-top_k:][::-1]\n",
    "    assigned_tags = [tags[i] for i in top_indices]\n",
    "    return assigned_tags\n",
    "\n",
    "df['assigned_tags'] = df_clean['embedding'].apply(lambda emb: assign_tags(emb.unsqueeze(0), tag_embeddings, tag_list, top_k=2))\n",
    "\n",
    "# Просмотр результатов\n",
    "print(df[['video_id', 'assigned_tags', 'tags']].head())"
   ],
   "id": "bb32edfa0f277290",
   "outputs": [
    {
     "name": "stdout",
     "output_type": "stream",
     "text": [
      "                           video_id  \\\n",
      "0  9007f33c8347924ffa12f922da2a179d   \n",
      "1  9012707c45233bd601dead57bc9e2eca   \n",
      "2  e01d6ebabbc27e323fa1b7c581e9b96a   \n",
      "3  a00b145242be3ebc3b311455e94917af   \n",
      "4  b01a682bf4dfcc09f1e8fac5bc18785a   \n",
      "\n",
      "                                       assigned_tags  \\\n",
      "0         [Телевидение: Драма, Телевидение: Сериалы]   \n",
      "1           [Спорт: Боевые искусства, Спорт: Борьба]   \n",
      "2  [Фильмы и анимация: Драмы, Телевидение: Реалит...   \n",
      "3  [Покупки: Лотереи и скретч-карты, Спорт: Автог...   \n",
      "4  [Телевидение: Комедийные каналы, Музыка и ауди...   \n",
      "\n",
      "                                                tags  \n",
      "0                   Массовая культура: Юмор и сатира  \n",
      "1  События и достопримечательности:  Спортивные с...  \n",
      "2  Массовая культура: Отношения знаменитостей, Ма...  \n",
      "3     Транспорт, Спорт: Автогонки, Массовая культура  \n",
      "4                   Массовая культура: Юмор и сатира  \n"
     ]
    }
   ],
   "execution_count": 32
  },
  {
   "metadata": {
    "ExecuteTime": {
     "end_time": "2024-09-29T04:26:28.149774Z",
     "start_time": "2024-09-29T04:26:28.147799Z"
    }
   },
   "cell_type": "code",
   "source": [
    "def calculate_iou(predicted_tags, real_tags):\n",
    "    predicted_set = set(predicted_tags)\n",
    "    real_set = set(real_tags)\n",
    "    intersection = predicted_set.intersection(real_set)\n",
    "    union = predicted_set.union(real_set)\n",
    "    if not union:\n",
    "        return 0.0\n",
    "    iou = len(intersection) / len(union)\n",
    "    return iou"
   ],
   "id": "300e4156995a77d5",
   "outputs": [],
   "execution_count": 33
  },
  {
   "metadata": {
    "ExecuteTime": {
     "end_time": "2024-09-29T04:26:28.559831Z",
     "start_time": "2024-09-29T04:26:28.549338Z"
    }
   },
   "cell_type": "code",
   "source": [
    "df = df.fillna('')\n",
    "df['iou'] = df.apply(lambda row: calculate_iou(row['assigned_tags'], row['tags']), axis=1)\n",
    "mean_iou = df['iou'].mean()\n",
    "print(f\"Средний IoU: {mean_iou:.4f}\")\n",
    "max_iou = df['iou'].max()\n",
    "print(f\"Максимальный IoU: {max_iou:.4f}\")\n",
    "min_iou = df['iou'].min()\n",
    "print(f\"Минимальный IoU: {min_iou:.4f}\")"
   ],
   "id": "db35377833a63031",
   "outputs": [
    {
     "name": "stdout",
     "output_type": "stream",
     "text": [
      "Средний IoU: 0.0000\n",
      "Максимальный IoU: 0.0000\n",
      "Минимальный IoU: 0.0000\n"
     ]
    }
   ],
   "execution_count": 34
  },
  {
   "metadata": {},
   "cell_type": "markdown",
   "source": "# Case 2",
   "id": "956ffd79e5136637"
  },
  {
   "metadata": {
    "ExecuteTime": {
     "end_time": "2024-09-29T04:27:43.595940Z",
     "start_time": "2024-09-29T04:27:43.034198Z"
    }
   },
   "cell_type": "code",
   "source": [
    "# Получение уникальных тегов 1 уровня\n",
    "level1_tags = tags_df['Уровень 1 (iab)'].unique()\n",
    "level1_tags = [tag for tag in level1_tags if tag]\n",
    "\n",
    "# Подготовка данных тегов 1 уровня\n",
    "level1_df = pd.DataFrame({'tag': level1_tags})\n",
    "level1_df['tag_clean'] = level1_df['tag'].apply(preprocess_text)\n",
    "level1_df['embedding'] = level1_df['tag_clean'].apply(lambda x: model.encode(x, convert_to_tensor=True))\n",
    "\n",
    "level1_embeddings = torch.stack(level1_df['embedding'].tolist())\n",
    "level1_tag_list = level1_df['tag'].tolist()\n",
    "\n",
    "def assign_level_tags(video_embedding, tag_embeddings, tags, top_k=1):\n",
    "    similarities = cosine_similarity(video_embedding.cpu().numpy(), tag_embeddings.cpu().numpy())[0]\n",
    "    top_indices = similarities.argsort()[-top_k:][::-1]\n",
    "    assigned_tags = [tags[i] for i in top_indices]\n",
    "    return assigned_tags\n",
    "\n",
    "df['level1_tags'] = df_clean['embedding'].apply(lambda emb: assign_level_tags(emb.unsqueeze(0), level1_embeddings, level1_tag_list, top_k=3))\n"
   ],
   "id": "dc608beceee0961",
   "outputs": [],
   "execution_count": 37
  },
  {
   "metadata": {
    "ExecuteTime": {
     "end_time": "2024-09-29T04:27:44.593421Z",
     "start_time": "2024-09-29T04:27:44.589065Z"
    }
   },
   "cell_type": "code",
   "source": "df[['video_id', 'level1_tags', 'tags']].head()",
   "id": "232cdb35e757105",
   "outputs": [
    {
     "data": {
      "text/plain": [
       "                           video_id  \\\n",
       "0  9007f33c8347924ffa12f922da2a179d   \n",
       "1  9012707c45233bd601dead57bc9e2eca   \n",
       "2  e01d6ebabbc27e323fa1b7c581e9b96a   \n",
       "3  a00b145242be3ebc3b311455e94917af   \n",
       "4  b01a682bf4dfcc09f1e8fac5bc18785a   \n",
       "\n",
       "                                        level1_tags  \\\n",
       "0                  [Карьера, Телевидение, Медицина]   \n",
       "1            [Фильмы и анимация, Игры, Телевидение]   \n",
       "2  [Карьера, Фильмы и анимация, Новости и политика]   \n",
       "3                          [Игры, Покупки, Карьера]   \n",
       "4         [Карьера, Телевидение, Фильмы и анимация]   \n",
       "\n",
       "                                                tags  \n",
       "0                   Массовая культура: Юмор и сатира  \n",
       "1  События и достопримечательности:  Спортивные с...  \n",
       "2  Массовая культура: Отношения знаменитостей, Ма...  \n",
       "3     Транспорт, Спорт: Автогонки, Массовая культура  \n",
       "4                   Массовая культура: Юмор и сатира  "
      ],
      "text/html": [
       "<div>\n",
       "<style scoped>\n",
       "    .dataframe tbody tr th:only-of-type {\n",
       "        vertical-align: middle;\n",
       "    }\n",
       "\n",
       "    .dataframe tbody tr th {\n",
       "        vertical-align: top;\n",
       "    }\n",
       "\n",
       "    .dataframe thead th {\n",
       "        text-align: right;\n",
       "    }\n",
       "</style>\n",
       "<table border=\"1\" class=\"dataframe\">\n",
       "  <thead>\n",
       "    <tr style=\"text-align: right;\">\n",
       "      <th></th>\n",
       "      <th>video_id</th>\n",
       "      <th>level1_tags</th>\n",
       "      <th>tags</th>\n",
       "    </tr>\n",
       "  </thead>\n",
       "  <tbody>\n",
       "    <tr>\n",
       "      <th>0</th>\n",
       "      <td>9007f33c8347924ffa12f922da2a179d</td>\n",
       "      <td>[Карьера, Телевидение, Медицина]</td>\n",
       "      <td>Массовая культура: Юмор и сатира</td>\n",
       "    </tr>\n",
       "    <tr>\n",
       "      <th>1</th>\n",
       "      <td>9012707c45233bd601dead57bc9e2eca</td>\n",
       "      <td>[Фильмы и анимация, Игры, Телевидение]</td>\n",
       "      <td>События и достопримечательности:  Спортивные с...</td>\n",
       "    </tr>\n",
       "    <tr>\n",
       "      <th>2</th>\n",
       "      <td>e01d6ebabbc27e323fa1b7c581e9b96a</td>\n",
       "      <td>[Карьера, Фильмы и анимация, Новости и политика]</td>\n",
       "      <td>Массовая культура: Отношения знаменитостей, Ма...</td>\n",
       "    </tr>\n",
       "    <tr>\n",
       "      <th>3</th>\n",
       "      <td>a00b145242be3ebc3b311455e94917af</td>\n",
       "      <td>[Игры, Покупки, Карьера]</td>\n",
       "      <td>Транспорт, Спорт: Автогонки, Массовая культура</td>\n",
       "    </tr>\n",
       "    <tr>\n",
       "      <th>4</th>\n",
       "      <td>b01a682bf4dfcc09f1e8fac5bc18785a</td>\n",
       "      <td>[Карьера, Телевидение, Фильмы и анимация]</td>\n",
       "      <td>Массовая культура: Юмор и сатира</td>\n",
       "    </tr>\n",
       "  </tbody>\n",
       "</table>\n",
       "</div>"
      ]
     },
     "execution_count": 38,
     "metadata": {},
     "output_type": "execute_result"
    }
   ],
   "execution_count": 38
  },
  {
   "metadata": {},
   "cell_type": "markdown",
   "source": "# case 3",
   "id": "dd9b74bfe19a4696"
  },
  {
   "metadata": {
    "ExecuteTime": {
     "end_time": "2024-09-29T04:36:16.199848Z",
     "start_time": "2024-09-29T04:36:15.725827Z"
    }
   },
   "cell_type": "code",
   "source": "df_clean",
   "id": "fb0b1633f80121be",
   "outputs": [
    {
     "data": {
      "text/plain": [
       "                              video_id  \\\n",
       "0     9007f33c8347924ffa12f922da2a179d   \n",
       "1     9012707c45233bd601dead57bc9e2eca   \n",
       "2     e01d6ebabbc27e323fa1b7c581e9b96a   \n",
       "3     a00b145242be3ebc3b311455e94917af   \n",
       "4     b01a682bf4dfcc09f1e8fac5bc18785a   \n",
       "...                                ...   \n",
       "1044  5fe16aa2869667bc1519e32a4c536b26   \n",
       "1045  4ffa5fbb2a410aa841659d8890ae5e3f   \n",
       "1046  3fc81df4bfe121ce2bc33dd581f5efeb   \n",
       "1047  efe0b4139ef82ec270b9e2fe0216214e   \n",
       "1048  fff1ef66d848bc8987ac5126f05b053b   \n",
       "\n",
       "                                            title_clean  \\\n",
       "0     Пацанский клининг. Шоу «ЧистоТачка» | Повелите...   \n",
       "1     СarJitsu. 3 сезон, 6 серия. Нарек Симонян vs Ж...   \n",
       "2     Злые языки | Выпуск 1, Сезон 1 | Непорочность ...   \n",
       "3                    $1000 шоу | 1 выпуск | Автобоулинг   \n",
       "4                       В РОТ МНЕ НОТЫ #1 ВИТА ЧИКОВАНИ   \n",
       "...                                                 ...   \n",
       "1044  Злые языки | Выпуск 3, Сезон 1 | Эксклюзив Над...   \n",
       "1045  МАКСИМ НАРОДНЫЙ Выпуск №15 ГОТОВИМ «ПОХМЕЛЬНЫЙ...   \n",
       "1046  Роман Юнусов и блогерка Арина Ростовская пытаю...   \n",
       "1047  Артмеханика. Сезон 2. Выпуск 18. Современные р...   \n",
       "1048                     Артмеханика. Концерт Анет Сай.   \n",
       "\n",
       "                                      description_clean  \\\n",
       "0     Тяпа и Егор бросили вызов нестареющему «повели...   \n",
       "1     CarJitsu — бои в формате POP MMA, где вместо р...   \n",
       "2     Почему Дана Борисова предпочитает молчать о по...   \n",
       "3     В этом выпуске, популярный автоблогер Дима Гор...   \n",
       "4     В первом выпуске «В рот мне ноты» популярная п...   \n",
       "...                                                 ...   \n",
       "1044  Гость выпуска – Надин Серовски. Ей предстоит о...   \n",
       "1045  Предлагаю подписчикам быстро приготовить похме...   \n",
       "1046  В новом выпуске шоу «Спортивный Интерес» Рома ...   \n",
       "1047  “Артмеханика” представляет своих друзей! Поэты...   \n",
       "1048                     Артмеханика. Концерт Анет Сай.   \n",
       "\n",
       "                                            video_clean  \\\n",
       "0                                                         \n",
       "1                                                         \n",
       "2                                                         \n",
       "3                                                         \n",
       "4                                                         \n",
       "...                                                 ...   \n",
       "1044                                                      \n",
       "1045                                                      \n",
       "1046  Fencing Techniques Fencing Training Fencing Eq...   \n",
       "1047                                                      \n",
       "1048                                                      \n",
       "\n",
       "                                            audio_clean  \\\n",
       "0                                                         \n",
       "1                                                         \n",
       "2                                                         \n",
       "3                                                         \n",
       "4                                                         \n",
       "...                                                 ...   \n",
       "1044                                                      \n",
       "1045                                                      \n",
       "1046  вообще куда пришел это все бесплатно бесплатно...   \n",
       "1047                                                      \n",
       "1048                                                      \n",
       "\n",
       "                                          combined_text  \\\n",
       "0     Пацанский клининг. Шоу «ЧистоТачка» | Повелите...   \n",
       "1     СarJitsu. 3 сезон, 6 серия. Нарек Симонян vs Ж...   \n",
       "2     Злые языки | Выпуск 1, Сезон 1 | Непорочность ...   \n",
       "3     $1000 шоу | 1 выпуск | Автобоулинг В этом выпу...   \n",
       "4     В РОТ МНЕ НОТЫ #1 ВИТА ЧИКОВАНИ В первом выпус...   \n",
       "...                                                 ...   \n",
       "1044  Злые языки | Выпуск 3, Сезон 1 | Эксклюзив Над...   \n",
       "1045  МАКСИМ НАРОДНЫЙ Выпуск №15 ГОТОВИМ «ПОХМЕЛЬНЫЙ...   \n",
       "1046  Роман Юнусов и блогерка Арина Ростовская пытаю...   \n",
       "1047  Артмеханика. Сезон 2. Выпуск 18. Современные р...   \n",
       "1048  Артмеханика. Концерт Анет Сай. Артмеханика. Ко...   \n",
       "\n",
       "                                              embedding  \n",
       "0     [tensor(0.0961, device='cuda:0'), tensor(0.196...  \n",
       "1     [tensor(0.1175, device='cuda:0'), tensor(0.159...  \n",
       "2     [tensor(-0.0022, device='cuda:0'), tensor(0.27...  \n",
       "3     [tensor(0.0446, device='cuda:0'), tensor(0.052...  \n",
       "4     [tensor(0.0486, device='cuda:0'), tensor(0.119...  \n",
       "...                                                 ...  \n",
       "1044  [tensor(0.0433, device='cuda:0'), tensor(0.245...  \n",
       "1045  [tensor(-0.0237, device='cuda:0'), tensor(0.06...  \n",
       "1046  [tensor(0.0921, device='cuda:0'), tensor(0.048...  \n",
       "1047  [tensor(0.0443, device='cuda:0'), tensor(0.132...  \n",
       "1048  [tensor(-0.0320, device='cuda:0'), tensor(0.01...  \n",
       "\n",
       "[1049 rows x 7 columns]"
      ],
      "text/html": [
       "<div>\n",
       "<style scoped>\n",
       "    .dataframe tbody tr th:only-of-type {\n",
       "        vertical-align: middle;\n",
       "    }\n",
       "\n",
       "    .dataframe tbody tr th {\n",
       "        vertical-align: top;\n",
       "    }\n",
       "\n",
       "    .dataframe thead th {\n",
       "        text-align: right;\n",
       "    }\n",
       "</style>\n",
       "<table border=\"1\" class=\"dataframe\">\n",
       "  <thead>\n",
       "    <tr style=\"text-align: right;\">\n",
       "      <th></th>\n",
       "      <th>video_id</th>\n",
       "      <th>title_clean</th>\n",
       "      <th>description_clean</th>\n",
       "      <th>video_clean</th>\n",
       "      <th>audio_clean</th>\n",
       "      <th>combined_text</th>\n",
       "      <th>embedding</th>\n",
       "    </tr>\n",
       "  </thead>\n",
       "  <tbody>\n",
       "    <tr>\n",
       "      <th>0</th>\n",
       "      <td>9007f33c8347924ffa12f922da2a179d</td>\n",
       "      <td>Пацанский клининг. Шоу «ЧистоТачка» | Повелите...</td>\n",
       "      <td>Тяпа и Егор бросили вызов нестареющему «повели...</td>\n",
       "      <td></td>\n",
       "      <td></td>\n",
       "      <td>Пацанский клининг. Шоу «ЧистоТачка» | Повелите...</td>\n",
       "      <td>[tensor(0.0961, device='cuda:0'), tensor(0.196...</td>\n",
       "    </tr>\n",
       "    <tr>\n",
       "      <th>1</th>\n",
       "      <td>9012707c45233bd601dead57bc9e2eca</td>\n",
       "      <td>СarJitsu. 3 сезон, 6 серия. Нарек Симонян vs Ж...</td>\n",
       "      <td>CarJitsu — бои в формате POP MMA, где вместо р...</td>\n",
       "      <td></td>\n",
       "      <td></td>\n",
       "      <td>СarJitsu. 3 сезон, 6 серия. Нарек Симонян vs Ж...</td>\n",
       "      <td>[tensor(0.1175, device='cuda:0'), tensor(0.159...</td>\n",
       "    </tr>\n",
       "    <tr>\n",
       "      <th>2</th>\n",
       "      <td>e01d6ebabbc27e323fa1b7c581e9b96a</td>\n",
       "      <td>Злые языки | Выпуск 1, Сезон 1 | Непорочность ...</td>\n",
       "      <td>Почему Дана Борисова предпочитает молчать о по...</td>\n",
       "      <td></td>\n",
       "      <td></td>\n",
       "      <td>Злые языки | Выпуск 1, Сезон 1 | Непорочность ...</td>\n",
       "      <td>[tensor(-0.0022, device='cuda:0'), tensor(0.27...</td>\n",
       "    </tr>\n",
       "    <tr>\n",
       "      <th>3</th>\n",
       "      <td>a00b145242be3ebc3b311455e94917af</td>\n",
       "      <td>$1000 шоу | 1 выпуск | Автобоулинг</td>\n",
       "      <td>В этом выпуске, популярный автоблогер Дима Гор...</td>\n",
       "      <td></td>\n",
       "      <td></td>\n",
       "      <td>$1000 шоу | 1 выпуск | Автобоулинг В этом выпу...</td>\n",
       "      <td>[tensor(0.0446, device='cuda:0'), tensor(0.052...</td>\n",
       "    </tr>\n",
       "    <tr>\n",
       "      <th>4</th>\n",
       "      <td>b01a682bf4dfcc09f1e8fac5bc18785a</td>\n",
       "      <td>В РОТ МНЕ НОТЫ #1 ВИТА ЧИКОВАНИ</td>\n",
       "      <td>В первом выпуске «В рот мне ноты» популярная п...</td>\n",
       "      <td></td>\n",
       "      <td></td>\n",
       "      <td>В РОТ МНЕ НОТЫ #1 ВИТА ЧИКОВАНИ В первом выпус...</td>\n",
       "      <td>[tensor(0.0486, device='cuda:0'), tensor(0.119...</td>\n",
       "    </tr>\n",
       "    <tr>\n",
       "      <th>...</th>\n",
       "      <td>...</td>\n",
       "      <td>...</td>\n",
       "      <td>...</td>\n",
       "      <td>...</td>\n",
       "      <td>...</td>\n",
       "      <td>...</td>\n",
       "      <td>...</td>\n",
       "    </tr>\n",
       "    <tr>\n",
       "      <th>1044</th>\n",
       "      <td>5fe16aa2869667bc1519e32a4c536b26</td>\n",
       "      <td>Злые языки | Выпуск 3, Сезон 1 | Эксклюзив Над...</td>\n",
       "      <td>Гость выпуска – Надин Серовски. Ей предстоит о...</td>\n",
       "      <td></td>\n",
       "      <td></td>\n",
       "      <td>Злые языки | Выпуск 3, Сезон 1 | Эксклюзив Над...</td>\n",
       "      <td>[tensor(0.0433, device='cuda:0'), tensor(0.245...</td>\n",
       "    </tr>\n",
       "    <tr>\n",
       "      <th>1045</th>\n",
       "      <td>4ffa5fbb2a410aa841659d8890ae5e3f</td>\n",
       "      <td>МАКСИМ НАРОДНЫЙ Выпуск №15 ГОТОВИМ «ПОХМЕЛЬНЫЙ...</td>\n",
       "      <td>Предлагаю подписчикам быстро приготовить похме...</td>\n",
       "      <td></td>\n",
       "      <td></td>\n",
       "      <td>МАКСИМ НАРОДНЫЙ Выпуск №15 ГОТОВИМ «ПОХМЕЛЬНЫЙ...</td>\n",
       "      <td>[tensor(-0.0237, device='cuda:0'), tensor(0.06...</td>\n",
       "    </tr>\n",
       "    <tr>\n",
       "      <th>1046</th>\n",
       "      <td>3fc81df4bfe121ce2bc33dd581f5efeb</td>\n",
       "      <td>Роман Юнусов и блогерка Арина Ростовская пытаю...</td>\n",
       "      <td>В новом выпуске шоу «Спортивный Интерес» Рома ...</td>\n",
       "      <td>Fencing Techniques Fencing Training Fencing Eq...</td>\n",
       "      <td>вообще куда пришел это все бесплатно бесплатно...</td>\n",
       "      <td>Роман Юнусов и блогерка Арина Ростовская пытаю...</td>\n",
       "      <td>[tensor(0.0921, device='cuda:0'), tensor(0.048...</td>\n",
       "    </tr>\n",
       "    <tr>\n",
       "      <th>1047</th>\n",
       "      <td>efe0b4139ef82ec270b9e2fe0216214e</td>\n",
       "      <td>Артмеханика. Сезон 2. Выпуск 18. Современные р...</td>\n",
       "      <td>“Артмеханика” представляет своих друзей! Поэты...</td>\n",
       "      <td></td>\n",
       "      <td></td>\n",
       "      <td>Артмеханика. Сезон 2. Выпуск 18. Современные р...</td>\n",
       "      <td>[tensor(0.0443, device='cuda:0'), tensor(0.132...</td>\n",
       "    </tr>\n",
       "    <tr>\n",
       "      <th>1048</th>\n",
       "      <td>fff1ef66d848bc8987ac5126f05b053b</td>\n",
       "      <td>Артмеханика. Концерт Анет Сай.</td>\n",
       "      <td>Артмеханика. Концерт Анет Сай.</td>\n",
       "      <td></td>\n",
       "      <td></td>\n",
       "      <td>Артмеханика. Концерт Анет Сай. Артмеханика. Ко...</td>\n",
       "      <td>[tensor(-0.0320, device='cuda:0'), tensor(0.01...</td>\n",
       "    </tr>\n",
       "  </tbody>\n",
       "</table>\n",
       "<p>1049 rows × 7 columns</p>\n",
       "</div>"
      ]
     },
     "execution_count": 39,
     "metadata": {},
     "output_type": "execute_result"
    }
   ],
   "execution_count": 39
  },
  {
   "metadata": {
    "ExecuteTime": {
     "end_time": "2024-09-29T04:37:04.029933Z",
     "start_time": "2024-09-29T04:36:47.083347Z"
    }
   },
   "cell_type": "code",
   "source": [
    "# Получение эмбеддингов\n",
    "df_clean['audio_embedding'] = df_clean['audio_clean'].apply(lambda x: model.encode(x, convert_to_tensor=True))\n",
    "df_clean['video_embedding'] = df_clean['video_clean'].apply(lambda x: model.encode(x, convert_to_tensor=True))\n",
    "df_clean['title_embedding'] = df_clean['title_clean'].apply(lambda x: model.encode(x, convert_to_tensor=True))\n",
    "df_clean['description_embedding'] = df_clean['description_clean'].apply(lambda x: model.encode(x, convert_to_tensor=True))\n"
   ],
   "id": "4d64fc5eb66069ac",
   "outputs": [],
   "execution_count": 41
  },
  {
   "metadata": {
    "ExecuteTime": {
     "end_time": "2024-09-29T04:49:32.296102Z",
     "start_time": "2024-09-29T04:49:32.227263Z"
    }
   },
   "cell_type": "code",
   "source": [
    "# Задание весов\n",
    "weights = {\n",
    "    'audio': 1,\n",
    "    'description': 1,\n",
    "    'video_tags': 1,\n",
    "    'title': 1\n",
    "}\n",
    "\n",
    "def combine_embeddings(row):\n",
    "    combined_embedding = (\n",
    "        row['audio_embedding'].cpu().numpy() * weights['audio'] +\n",
    "        row['description_embedding'].cpu().numpy() * weights['description'] +\n",
    "        row['video_embedding'].cpu().numpy() * weights['video_tags'] +\n",
    "        row['title_embedding'].cpu().numpy() * weights['title']\n",
    "    )\n",
    "    return combined_embedding\n",
    "\n",
    "df_clean['combined_embedding'] = df_clean.apply(combine_embeddings, axis=1)\n"
   ],
   "id": "6f67a6037b70b321",
   "outputs": [],
   "execution_count": 73
  },
  {
   "metadata": {
    "ExecuteTime": {
     "end_time": "2024-09-29T04:49:34.520782Z",
     "start_time": "2024-09-29T04:49:34.204791Z"
    }
   },
   "cell_type": "code",
   "source": "tags_df.head()",
   "id": "d9e00b99171f2fcd",
   "outputs": [
    {
     "data": {
      "text/plain": [
       "  Уровень 1 (iab)         Уровень 2 (iab)      Уровень 3 (iab)  \\\n",
       "0       Транспорт                                                \n",
       "1       Транспорт  Типы кузова автомобиля                        \n",
       "2       Транспорт  Типы кузова автомобиля  Грузовой автомобиль   \n",
       "3       Транспорт  Типы кузова автомобиля                Седан   \n",
       "4       Транспорт  Типы кузова автомобиля            Универсал   \n",
       "\n",
       "                                            full_tag  \\\n",
       "0                                          Транспорт   \n",
       "1                  Транспорт: Типы кузова автомобиля   \n",
       "2  Транспорт: Типы кузова автомобиля: Грузовой ав...   \n",
       "3           Транспорт: Типы кузова автомобиля: Седан   \n",
       "4       Транспорт: Типы кузова автомобиля: Универсал   \n",
       "\n",
       "                                           embedding  \\\n",
       "0  [tensor(-0.0193, device='cuda:0'), tensor(0.15...   \n",
       "1  [tensor(0.0236, device='cuda:0'), tensor(0.021...   \n",
       "2  [tensor(0.0183, device='cuda:0'), tensor(0.022...   \n",
       "3  [tensor(-0.0125, device='cuda:0'), tensor(-0.0...   \n",
       "4  [tensor(0.0143, device='cuda:0'), tensor(0.026...   \n",
       "\n",
       "                                       tag_embedding  \n",
       "0  [tensor(-0.0193), tensor(0.1599), tensor(-0.01...  \n",
       "1  [tensor(0.0236), tensor(0.0214), tensor(-0.013...  \n",
       "2  [tensor(0.0183), tensor(0.0227), tensor(-0.013...  \n",
       "3  [tensor(-0.0125), tensor(-0.0319), tensor(-0.0...  \n",
       "4  [tensor(0.0143), tensor(0.0267), tensor(-0.013...  "
      ],
      "text/html": [
       "<div>\n",
       "<style scoped>\n",
       "    .dataframe tbody tr th:only-of-type {\n",
       "        vertical-align: middle;\n",
       "    }\n",
       "\n",
       "    .dataframe tbody tr th {\n",
       "        vertical-align: top;\n",
       "    }\n",
       "\n",
       "    .dataframe thead th {\n",
       "        text-align: right;\n",
       "    }\n",
       "</style>\n",
       "<table border=\"1\" class=\"dataframe\">\n",
       "  <thead>\n",
       "    <tr style=\"text-align: right;\">\n",
       "      <th></th>\n",
       "      <th>Уровень 1 (iab)</th>\n",
       "      <th>Уровень 2 (iab)</th>\n",
       "      <th>Уровень 3 (iab)</th>\n",
       "      <th>full_tag</th>\n",
       "      <th>embedding</th>\n",
       "      <th>tag_embedding</th>\n",
       "    </tr>\n",
       "  </thead>\n",
       "  <tbody>\n",
       "    <tr>\n",
       "      <th>0</th>\n",
       "      <td>Транспорт</td>\n",
       "      <td></td>\n",
       "      <td></td>\n",
       "      <td>Транспорт</td>\n",
       "      <td>[tensor(-0.0193, device='cuda:0'), tensor(0.15...</td>\n",
       "      <td>[tensor(-0.0193), tensor(0.1599), tensor(-0.01...</td>\n",
       "    </tr>\n",
       "    <tr>\n",
       "      <th>1</th>\n",
       "      <td>Транспорт</td>\n",
       "      <td>Типы кузова автомобиля</td>\n",
       "      <td></td>\n",
       "      <td>Транспорт: Типы кузова автомобиля</td>\n",
       "      <td>[tensor(0.0236, device='cuda:0'), tensor(0.021...</td>\n",
       "      <td>[tensor(0.0236), tensor(0.0214), tensor(-0.013...</td>\n",
       "    </tr>\n",
       "    <tr>\n",
       "      <th>2</th>\n",
       "      <td>Транспорт</td>\n",
       "      <td>Типы кузова автомобиля</td>\n",
       "      <td>Грузовой автомобиль</td>\n",
       "      <td>Транспорт: Типы кузова автомобиля: Грузовой ав...</td>\n",
       "      <td>[tensor(0.0183, device='cuda:0'), tensor(0.022...</td>\n",
       "      <td>[tensor(0.0183), tensor(0.0227), tensor(-0.013...</td>\n",
       "    </tr>\n",
       "    <tr>\n",
       "      <th>3</th>\n",
       "      <td>Транспорт</td>\n",
       "      <td>Типы кузова автомобиля</td>\n",
       "      <td>Седан</td>\n",
       "      <td>Транспорт: Типы кузова автомобиля: Седан</td>\n",
       "      <td>[tensor(-0.0125, device='cuda:0'), tensor(-0.0...</td>\n",
       "      <td>[tensor(-0.0125), tensor(-0.0319), tensor(-0.0...</td>\n",
       "    </tr>\n",
       "    <tr>\n",
       "      <th>4</th>\n",
       "      <td>Транспорт</td>\n",
       "      <td>Типы кузова автомобиля</td>\n",
       "      <td>Универсал</td>\n",
       "      <td>Транспорт: Типы кузова автомобиля: Универсал</td>\n",
       "      <td>[tensor(0.0143, device='cuda:0'), tensor(0.026...</td>\n",
       "      <td>[tensor(0.0143), tensor(0.0267), tensor(-0.013...</td>\n",
       "    </tr>\n",
       "  </tbody>\n",
       "</table>\n",
       "</div>"
      ]
     },
     "execution_count": 74,
     "metadata": {},
     "output_type": "execute_result"
    }
   ],
   "execution_count": 74
  },
  {
   "metadata": {
    "ExecuteTime": {
     "end_time": "2024-09-29T04:49:37.228882Z",
     "start_time": "2024-09-29T04:49:34.715302Z"
    }
   },
   "cell_type": "code",
   "source": "tags_df['tag_embedding'] = tags_df['full_tag'].apply(lambda x: model.encode(x, convert_to_tensor=True).cpu())",
   "id": "f2f6db152b0911f4",
   "outputs": [],
   "execution_count": 75
  },
  {
   "metadata": {
    "ExecuteTime": {
     "end_time": "2024-09-29T04:49:37.501914Z",
     "start_time": "2024-09-29T04:49:37.499603Z"
    }
   },
   "cell_type": "code",
   "source": "tags_df = tags_df[tags_df['full_tag'] != '']",
   "id": "f86bd6e61babb0e8",
   "outputs": [],
   "execution_count": 76
  },
  {
   "metadata": {
    "ExecuteTime": {
     "end_time": "2024-09-29T04:50:50.532691Z",
     "start_time": "2024-09-29T04:50:44.751653Z"
    }
   },
   "cell_type": "code",
   "source": [
    "df_clean['full_text'] = df_clean['title_clean'] + ' ' + df_clean['description_clean'] + ' ' + df_clean['video_clean'] + ' ' + df_clean['audio_clean']\n",
    "df_clean['full_text'] = df_clean['full_text'].apply(preprocess_text)\n",
    "df_clean['full_text_embedding'] = df_clean['full_text'].apply(lambda x: model.encode(x, convert_to_tensor=True).cpu())\n"
   ],
   "id": "5131e060368d53fb",
   "outputs": [],
   "execution_count": 80
  },
  {
   "metadata": {
    "ExecuteTime": {
     "end_time": "2024-09-29T04:52:18.903797Z",
     "start_time": "2024-09-29T04:52:17.357282Z"
    }
   },
   "cell_type": "code",
   "source": [
    "# Преобразование эмбеддингов тегов в массив NumPy\n",
    "tag_embeddings = np.vstack(tags_df['tag_embedding'].values)\n",
    "\n",
    "# Функция для присвоения тегов видео\n",
    "def assign_tags(combined_embedding):\n",
    "    similarities = cosine_similarity([combined_embedding], tag_embeddings)[0]\n",
    "    tag_similarities = list(zip(tags_df['full_tag'], similarities))\n",
    "    tag_similarities = sorted(tag_similarities, key=lambda x: x[1], reverse=True)\n",
    "    top_n = 5\n",
    "    top_tags = [tag for tag, sim in tag_similarities[:top_n]]\n",
    "    return top_tags\n",
    "\n",
    "# Присвоение тегов каждому видео\n",
    "df_clean['predicted_tags'] = df_clean['full_text_embedding'].apply(assign_tags)\n",
    "\n",
    "# Просмотр результатов\n",
    "df_clean[['video_id', 'predicted_tags']]\n"
   ],
   "id": "22ddb5ff565d36",
   "outputs": [
    {
     "data": {
      "text/plain": [
       "                              video_id  \\\n",
       "0     9007f33c8347924ffa12f922da2a179d   \n",
       "1     9012707c45233bd601dead57bc9e2eca   \n",
       "2     e01d6ebabbc27e323fa1b7c581e9b96a   \n",
       "3     a00b145242be3ebc3b311455e94917af   \n",
       "4     b01a682bf4dfcc09f1e8fac5bc18785a   \n",
       "...                                ...   \n",
       "1044  5fe16aa2869667bc1519e32a4c536b26   \n",
       "1045  4ffa5fbb2a410aa841659d8890ae5e3f   \n",
       "1046  3fc81df4bfe121ce2bc33dd581f5efeb   \n",
       "1047  efe0b4139ef82ec270b9e2fe0216214e   \n",
       "1048  fff1ef66d848bc8987ac5126f05b053b   \n",
       "\n",
       "                                         predicted_tags  \n",
       "0     [Телевидение: Драма, Телевидение: Сериалы, Изо...  \n",
       "1     [Спорт: Боевые искусства, Спорт: Борьба, Спорт...  \n",
       "2     [Фильмы и анимация: Драмы, Телевидение: Реалит...  \n",
       "3     [Покупки: Лотереи и скретч-карты, Спорт: Автог...  \n",
       "4     [Телевидение: Комедийные каналы, Музыка и ауди...  \n",
       "...                                                 ...  \n",
       "1044  [Телевидение: Реалити-ТВ, Карьера, Телевидение...  \n",
       "1045  [Еда и напитки: Кулинария, Еда и напитки: Рест...  \n",
       "1046  [Телевидение: Реалити-ТВ, Спорт: Экстремальные...  \n",
       "1047  [Музыка и аудио: Комедия и стендап (Музыка и а...  \n",
       "1048  [Изобразительное искусство: Театр, Изобразител...  \n",
       "\n",
       "[1049 rows x 2 columns]"
      ],
      "text/html": [
       "<div>\n",
       "<style scoped>\n",
       "    .dataframe tbody tr th:only-of-type {\n",
       "        vertical-align: middle;\n",
       "    }\n",
       "\n",
       "    .dataframe tbody tr th {\n",
       "        vertical-align: top;\n",
       "    }\n",
       "\n",
       "    .dataframe thead th {\n",
       "        text-align: right;\n",
       "    }\n",
       "</style>\n",
       "<table border=\"1\" class=\"dataframe\">\n",
       "  <thead>\n",
       "    <tr style=\"text-align: right;\">\n",
       "      <th></th>\n",
       "      <th>video_id</th>\n",
       "      <th>predicted_tags</th>\n",
       "    </tr>\n",
       "  </thead>\n",
       "  <tbody>\n",
       "    <tr>\n",
       "      <th>0</th>\n",
       "      <td>9007f33c8347924ffa12f922da2a179d</td>\n",
       "      <td>[Телевидение: Драма, Телевидение: Сериалы, Изо...</td>\n",
       "    </tr>\n",
       "    <tr>\n",
       "      <th>1</th>\n",
       "      <td>9012707c45233bd601dead57bc9e2eca</td>\n",
       "      <td>[Спорт: Боевые искусства, Спорт: Борьба, Спорт...</td>\n",
       "    </tr>\n",
       "    <tr>\n",
       "      <th>2</th>\n",
       "      <td>e01d6ebabbc27e323fa1b7c581e9b96a</td>\n",
       "      <td>[Фильмы и анимация: Драмы, Телевидение: Реалит...</td>\n",
       "    </tr>\n",
       "    <tr>\n",
       "      <th>3</th>\n",
       "      <td>a00b145242be3ebc3b311455e94917af</td>\n",
       "      <td>[Покупки: Лотереи и скретч-карты, Спорт: Автог...</td>\n",
       "    </tr>\n",
       "    <tr>\n",
       "      <th>4</th>\n",
       "      <td>b01a682bf4dfcc09f1e8fac5bc18785a</td>\n",
       "      <td>[Телевидение: Комедийные каналы, Музыка и ауди...</td>\n",
       "    </tr>\n",
       "    <tr>\n",
       "      <th>...</th>\n",
       "      <td>...</td>\n",
       "      <td>...</td>\n",
       "    </tr>\n",
       "    <tr>\n",
       "      <th>1044</th>\n",
       "      <td>5fe16aa2869667bc1519e32a4c536b26</td>\n",
       "      <td>[Телевидение: Реалити-ТВ, Карьера, Телевидение...</td>\n",
       "    </tr>\n",
       "    <tr>\n",
       "      <th>1045</th>\n",
       "      <td>4ffa5fbb2a410aa841659d8890ae5e3f</td>\n",
       "      <td>[Еда и напитки: Кулинария, Еда и напитки: Рест...</td>\n",
       "    </tr>\n",
       "    <tr>\n",
       "      <th>1046</th>\n",
       "      <td>3fc81df4bfe121ce2bc33dd581f5efeb</td>\n",
       "      <td>[Телевидение: Реалити-ТВ, Спорт: Экстремальные...</td>\n",
       "    </tr>\n",
       "    <tr>\n",
       "      <th>1047</th>\n",
       "      <td>efe0b4139ef82ec270b9e2fe0216214e</td>\n",
       "      <td>[Музыка и аудио: Комедия и стендап (Музыка и а...</td>\n",
       "    </tr>\n",
       "    <tr>\n",
       "      <th>1048</th>\n",
       "      <td>fff1ef66d848bc8987ac5126f05b053b</td>\n",
       "      <td>[Изобразительное искусство: Театр, Изобразител...</td>\n",
       "    </tr>\n",
       "  </tbody>\n",
       "</table>\n",
       "<p>1049 rows × 2 columns</p>\n",
       "</div>"
      ]
     },
     "execution_count": 85,
     "metadata": {},
     "output_type": "execute_result"
    }
   ],
   "execution_count": 85
  },
  {
   "metadata": {
    "ExecuteTime": {
     "end_time": "2024-09-29T04:52:23.996827Z",
     "start_time": "2024-09-29T04:52:23.987418Z"
    }
   },
   "cell_type": "code",
   "source": [
    "# Если у вас есть реальные теги для сравнения, можно вычислить метрику IoU\n",
    "\n",
    "# Преобразование реальных тегов в списки\n",
    "df_clean['real_tags_list'] = df['tags'].apply(lambda x: [tag.strip() for tag in x.split(',')])\n",
    "\n",
    "# Функция для вычисления IoU\n",
    "def calculate_iou(predicted, real):\n",
    "    predicted_set = set(predicted)\n",
    "    real_set = set(real)\n",
    "    intersection = predicted_set.intersection(real_set)\n",
    "    union = predicted_set.union(real_set)\n",
    "    if not union:\n",
    "        return 0.0\n",
    "    return len(intersection) / len(union)\n",
    "\n",
    "# Вычисление IoU для каждого видео\n",
    "df_clean['iou'] = df_clean.apply(lambda row: calculate_iou(row['predicted_tags'], row['real_tags_list']), axis=1)\n",
    "\n",
    "# Среднее значение IoU\n",
    "mean_iou = df['iou'].mean()\n",
    "print(f'Средний IoU по всем видео: {mean_iou:.4f}')\n"
   ],
   "id": "eb502d25b060cf6",
   "outputs": [
    {
     "name": "stdout",
     "output_type": "stream",
     "text": [
      "Средний IoU по всем видео: 0.0000\n"
     ]
    }
   ],
   "execution_count": 86
  },
  {
   "metadata": {
    "ExecuteTime": {
     "end_time": "2024-09-29T04:51:10.171415Z",
     "start_time": "2024-09-29T04:51:10.168898Z"
    }
   },
   "cell_type": "code",
   "source": "df['iou'].max()",
   "id": "8c9626032881beaa",
   "outputs": [
    {
     "data": {
      "text/plain": [
       "0.0"
      ]
     },
     "execution_count": 83,
     "metadata": {},
     "output_type": "execute_result"
    }
   ],
   "execution_count": 83
  },
  {
   "metadata": {},
   "cell_type": "markdown",
   "source": "# Case 4",
   "id": "1c5d9e9f802a9dd2"
  },
  {
   "metadata": {
    "ExecuteTime": {
     "end_time": "2024-09-29T04:55:05.129565Z",
     "start_time": "2024-09-29T04:55:02.806423Z"
    }
   },
   "cell_type": "code",
   "source": [
    "from transformers import AutoTokenizer, AutoModel\n",
    "\n",
    "# Установка устройства\n",
    "device = torch.device('cuda' if torch.cuda.is_available() else 'cpu')\n",
    "print(f'Используемое устройство: {device}')\n",
    "\n",
    "# Загрузка токенизатора и модели\n",
    "tokenizer = AutoTokenizer.from_pretrained('DeepPavlov/rubert-base-cased')\n",
    "model = AutoModel.from_pretrained('DeepPavlov/rubert-base-cased')\n",
    "model.to(device)\n",
    "model.eval()\n"
   ],
   "id": "41e1ba0ef02ebe6d",
   "outputs": [
    {
     "name": "stdout",
     "output_type": "stream",
     "text": [
      "Используемое устройство: cuda\n"
     ]
    },
    {
     "name": "stderr",
     "output_type": "stream",
     "text": [
      "Some weights of the model checkpoint at DeepPavlov/rubert-base-cased were not used when initializing BertModel: ['cls.predictions.bias', 'cls.predictions.decoder.bias', 'cls.predictions.decoder.weight', 'cls.predictions.transform.LayerNorm.bias', 'cls.predictions.transform.LayerNorm.weight', 'cls.predictions.transform.dense.bias', 'cls.predictions.transform.dense.weight', 'cls.seq_relationship.bias', 'cls.seq_relationship.weight']\n",
      "- This IS expected if you are initializing BertModel from the checkpoint of a model trained on another task or with another architecture (e.g. initializing a BertForSequenceClassification model from a BertForPreTraining model).\n",
      "- This IS NOT expected if you are initializing BertModel from the checkpoint of a model that you expect to be exactly identical (initializing a BertForSequenceClassification model from a BertForSequenceClassification model).\n"
     ]
    },
    {
     "data": {
      "text/plain": [
       "BertModel(\n",
       "  (embeddings): BertEmbeddings(\n",
       "    (word_embeddings): Embedding(119547, 768, padding_idx=0)\n",
       "    (position_embeddings): Embedding(512, 768)\n",
       "    (token_type_embeddings): Embedding(2, 768)\n",
       "    (LayerNorm): LayerNorm((768,), eps=1e-12, elementwise_affine=True)\n",
       "    (dropout): Dropout(p=0.1, inplace=False)\n",
       "  )\n",
       "  (encoder): BertEncoder(\n",
       "    (layer): ModuleList(\n",
       "      (0-11): 12 x BertLayer(\n",
       "        (attention): BertAttention(\n",
       "          (self): BertSdpaSelfAttention(\n",
       "            (query): Linear(in_features=768, out_features=768, bias=True)\n",
       "            (key): Linear(in_features=768, out_features=768, bias=True)\n",
       "            (value): Linear(in_features=768, out_features=768, bias=True)\n",
       "            (dropout): Dropout(p=0.1, inplace=False)\n",
       "          )\n",
       "          (output): BertSelfOutput(\n",
       "            (dense): Linear(in_features=768, out_features=768, bias=True)\n",
       "            (LayerNorm): LayerNorm((768,), eps=1e-12, elementwise_affine=True)\n",
       "            (dropout): Dropout(p=0.1, inplace=False)\n",
       "          )\n",
       "        )\n",
       "        (intermediate): BertIntermediate(\n",
       "          (dense): Linear(in_features=768, out_features=3072, bias=True)\n",
       "          (intermediate_act_fn): GELUActivation()\n",
       "        )\n",
       "        (output): BertOutput(\n",
       "          (dense): Linear(in_features=3072, out_features=768, bias=True)\n",
       "          (LayerNorm): LayerNorm((768,), eps=1e-12, elementwise_affine=True)\n",
       "          (dropout): Dropout(p=0.1, inplace=False)\n",
       "        )\n",
       "      )\n",
       "    )\n",
       "  )\n",
       "  (pooler): BertPooler(\n",
       "    (dense): Linear(in_features=768, out_features=768, bias=True)\n",
       "    (activation): Tanh()\n",
       "  )\n",
       ")"
      ]
     },
     "execution_count": 87,
     "metadata": {},
     "output_type": "execute_result"
    }
   ],
   "execution_count": 87
  },
  {
   "metadata": {
    "ExecuteTime": {
     "end_time": "2024-09-29T04:55:13.134991Z",
     "start_time": "2024-09-29T04:55:13.132452Z"
    }
   },
   "cell_type": "code",
   "source": [
    "def get_bert_embedding(text):\n",
    "    if not text.strip():\n",
    "        # Если текст пустой, возвращаем нулевой вектор\n",
    "        return np.zeros(model.config.hidden_size)\n",
    "    inputs = tokenizer(text, return_tensors='pt', truncation=True, max_length=512, padding='max_length')\n",
    "    inputs = {key: value.to(device) for key, value in inputs.items()}\n",
    "    with torch.no_grad():\n",
    "        outputs = model(**inputs)\n",
    "    # Используем эмбеддинг [CLS] токена\n",
    "    embedding = outputs.last_hidden_state[:, 0, :].cpu().numpy()\n",
    "    return embedding.flatten()\n"
   ],
   "id": "c91117e55839ba40",
   "outputs": [],
   "execution_count": 88
  },
  {
   "metadata": {},
   "cell_type": "code",
   "outputs": [],
   "execution_count": null,
   "source": "",
   "id": "455896f1fee52fa3"
  },
  {
   "metadata": {
    "ExecuteTime": {
     "end_time": "2024-09-29T04:56:22.610654Z",
     "start_time": "2024-09-29T04:56:03.667435Z"
    }
   },
   "cell_type": "code",
   "source": [
    "# Получение эмбеддингов для названия\n",
    "df_clean['title_embedding'] = df_clean['title_clean'].apply(get_bert_embedding)\n",
    "# Получение эмбеддингов для описания\n",
    "df_clean['description_embedding'] = df_clean['description_clean'].apply(get_bert_embedding)\n",
    "# Получение эмбеддингов для видео\n",
    "df_clean['video_embedding'] = df_clean['video_clean'].apply(get_bert_embedding)\n",
    "# Получение эмбеддингов для аудио\n",
    "df_clean['audio_embedding'] = df_clean['audio_clean'].apply(get_bert_embedding)\n",
    "\n"
   ],
   "id": "3d19ea8f46adfa66",
   "outputs": [],
   "execution_count": 90
  },
  {
   "metadata": {
    "ExecuteTime": {
     "end_time": "2024-09-29T04:57:06.177513Z",
     "start_time": "2024-09-29T04:57:06.173873Z"
    }
   },
   "cell_type": "code",
   "source": [
    "def combine_embeddings(row):\n",
    "    embeddings = []\n",
    "    weights = []\n",
    "    \n",
    "    # Название\n",
    "    if not np.all(row['title_embedding'] == 0):\n",
    "        embeddings.append(row['title_embedding'])\n",
    "        weights.append(0.1)\n",
    "    \n",
    "    # Описание\n",
    "    if not np.all(row['description_embedding'] == 0):\n",
    "        embeddings.append(row['description_embedding'])\n",
    "        weights.append(0.3)\n",
    "    \n",
    "    # Аудио\n",
    "    if not np.all(row['audio_embedding'] == 0):\n",
    "        embeddings.append(row['audio_embedding'])\n",
    "        weights.append(0.4)\n",
    "    \n",
    "    # Видео текст\n",
    "    if not np.all(row['video_embedding'] == 0):\n",
    "        embeddings.append(row['video_embedding'])\n",
    "        weights.append(0.2)\n",
    "    \n",
    "    if not embeddings:\n",
    "        # Если нет доступных эмбеддингов, возвращаем нулевой вектор\n",
    "        return np.zeros(model.config.hidden_size)\n",
    "    \n",
    "    # Нормализуем веса\n",
    "    total_weight = sum(weights)\n",
    "    weights = [w / total_weight for w in weights]\n",
    "    \n",
    "    # Вычисляем взвешенное среднее эмбеддингов\n",
    "    combined_embedding = np.average(embeddings, axis=0, weights=weights)\n",
    "    return combined_embedding\n"
   ],
   "id": "ed466c8b172200bb",
   "outputs": [],
   "execution_count": 96
  },
  {
   "metadata": {
    "ExecuteTime": {
     "end_time": "2024-09-29T04:57:07.528243Z",
     "start_time": "2024-09-29T04:57:07.526686Z"
    }
   },
   "cell_type": "code",
   "source": "",
   "id": "bb9c8b5bf9255ed7",
   "outputs": [],
   "execution_count": null
  },
  {
   "metadata": {
    "ExecuteTime": {
     "end_time": "2024-09-29T04:57:07.582978Z",
     "start_time": "2024-09-29T04:57:07.539867Z"
    }
   },
   "cell_type": "code",
   "source": "df_clean['combined_embedding'] = df_clean.apply(combine_embeddings, axis=1)\n",
   "id": "8dddce93335a55fb",
   "outputs": [],
   "execution_count": 97
  },
  {
   "metadata": {
    "ExecuteTime": {
     "end_time": "2024-09-29T04:58:53.629823Z",
     "start_time": "2024-09-29T04:58:51.046737Z"
    }
   },
   "cell_type": "code",
   "source": [
    "def assign_tags(combined_embedding):\n",
    "    if np.all(combined_embedding == 0):\n",
    "        # Если эмбеддинг пустой, возвращаем пустой список\n",
    "        return []\n",
    "    similarities = cosine_similarity([combined_embedding], tag_embeddings)[0]\n",
    "    tag_similarities = list(zip(tags_df['full_tag'], similarities))\n",
    "    tag_similarities = sorted(tag_similarities, key=lambda x: x[1], reverse=False)\n",
    "    top_n = 5\n",
    "    top_tags = [tag for tag, sim in tag_similarities[:top_n]]\n",
    "    return top_tags\n",
    "\n",
    "# Применение функции к каждому видео\n",
    "df_clean['predicted_tags'] = df_clean['combined_embedding'].apply(assign_tags)\n",
    "df_clean['tags'] = df['tags']"
   ],
   "id": "d40cea7838c2f61a",
   "outputs": [],
   "execution_count": 103
  },
  {
   "metadata": {
    "ExecuteTime": {
     "end_time": "2024-09-29T04:58:53.654911Z",
     "start_time": "2024-09-29T04:58:53.641041Z"
    }
   },
   "cell_type": "code",
   "source": "df_clean[['video_id', 'predicted_tags', 'tags']]",
   "id": "984c10e9bafe6e89",
   "outputs": [
    {
     "data": {
      "text/plain": [
       "                              video_id  \\\n",
       "0     9007f33c8347924ffa12f922da2a179d   \n",
       "1     9012707c45233bd601dead57bc9e2eca   \n",
       "2     e01d6ebabbc27e323fa1b7c581e9b96a   \n",
       "3     a00b145242be3ebc3b311455e94917af   \n",
       "4     b01a682bf4dfcc09f1e8fac5bc18785a   \n",
       "...                                ...   \n",
       "1044  5fe16aa2869667bc1519e32a4c536b26   \n",
       "1045  4ffa5fbb2a410aa841659d8890ae5e3f   \n",
       "1046  3fc81df4bfe121ce2bc33dd581f5efeb   \n",
       "1047  efe0b4139ef82ec270b9e2fe0216214e   \n",
       "1048  fff1ef66d848bc8987ac5126f05b053b   \n",
       "\n",
       "                                         predicted_tags  \\\n",
       "0     [Семья и отношения: Смерть родственников, Дом ...   \n",
       "1     [Религия и духовность: Духовность, Религия и д...   \n",
       "2     [Дом и сад: Системы безопасности, Семья и отно...   \n",
       "3     [Дом и сад, Религия и духовность: Буддизм, Дом...   \n",
       "4     [Религия и духовность: Духовность, Медицина: М...   \n",
       "...                                                 ...   \n",
       "1044  [Семья и отношения: Смерть родственников, Спор...   \n",
       "1045  [Дом и сад, Дом и сад: Наружная отделка, Дом и...   \n",
       "1046  [Семья и отношения: Смерть родственников, Спор...   \n",
       "1047  [Религия и духовность: Агностицизм, Религия и ...   \n",
       "1048  [Религия и духовность: Буддизм, Медицина: Меди...   \n",
       "\n",
       "                                                   tags  \n",
       "0                      Массовая культура: Юмор и сатира  \n",
       "1     События и достопримечательности:  Спортивные с...  \n",
       "2     Массовая культура: Отношения знаменитостей, Ма...  \n",
       "3        Транспорт, Спорт: Автогонки, Массовая культура  \n",
       "4                      Массовая культура: Юмор и сатира  \n",
       "...                                                 ...  \n",
       "1044  Массовая культура:Отношения знаменитостей: Сем...  \n",
       "1045                           Еда и напитки: Кулинария  \n",
       "1046                                              Спорт  \n",
       "1047  Книги и литература: Поэзия, Музыка и аудио,  К...  \n",
       "1048                  Музыка и аудио:Современная музыка  \n",
       "\n",
       "[1049 rows x 3 columns]"
      ],
      "text/html": [
       "<div>\n",
       "<style scoped>\n",
       "    .dataframe tbody tr th:only-of-type {\n",
       "        vertical-align: middle;\n",
       "    }\n",
       "\n",
       "    .dataframe tbody tr th {\n",
       "        vertical-align: top;\n",
       "    }\n",
       "\n",
       "    .dataframe thead th {\n",
       "        text-align: right;\n",
       "    }\n",
       "</style>\n",
       "<table border=\"1\" class=\"dataframe\">\n",
       "  <thead>\n",
       "    <tr style=\"text-align: right;\">\n",
       "      <th></th>\n",
       "      <th>video_id</th>\n",
       "      <th>predicted_tags</th>\n",
       "      <th>tags</th>\n",
       "    </tr>\n",
       "  </thead>\n",
       "  <tbody>\n",
       "    <tr>\n",
       "      <th>0</th>\n",
       "      <td>9007f33c8347924ffa12f922da2a179d</td>\n",
       "      <td>[Семья и отношения: Смерть родственников, Дом ...</td>\n",
       "      <td>Массовая культура: Юмор и сатира</td>\n",
       "    </tr>\n",
       "    <tr>\n",
       "      <th>1</th>\n",
       "      <td>9012707c45233bd601dead57bc9e2eca</td>\n",
       "      <td>[Религия и духовность: Духовность, Религия и д...</td>\n",
       "      <td>События и достопримечательности:  Спортивные с...</td>\n",
       "    </tr>\n",
       "    <tr>\n",
       "      <th>2</th>\n",
       "      <td>e01d6ebabbc27e323fa1b7c581e9b96a</td>\n",
       "      <td>[Дом и сад: Системы безопасности, Семья и отно...</td>\n",
       "      <td>Массовая культура: Отношения знаменитостей, Ма...</td>\n",
       "    </tr>\n",
       "    <tr>\n",
       "      <th>3</th>\n",
       "      <td>a00b145242be3ebc3b311455e94917af</td>\n",
       "      <td>[Дом и сад, Религия и духовность: Буддизм, Дом...</td>\n",
       "      <td>Транспорт, Спорт: Автогонки, Массовая культура</td>\n",
       "    </tr>\n",
       "    <tr>\n",
       "      <th>4</th>\n",
       "      <td>b01a682bf4dfcc09f1e8fac5bc18785a</td>\n",
       "      <td>[Религия и духовность: Духовность, Медицина: М...</td>\n",
       "      <td>Массовая культура: Юмор и сатира</td>\n",
       "    </tr>\n",
       "    <tr>\n",
       "      <th>...</th>\n",
       "      <td>...</td>\n",
       "      <td>...</td>\n",
       "      <td>...</td>\n",
       "    </tr>\n",
       "    <tr>\n",
       "      <th>1044</th>\n",
       "      <td>5fe16aa2869667bc1519e32a4c536b26</td>\n",
       "      <td>[Семья и отношения: Смерть родственников, Спор...</td>\n",
       "      <td>Массовая культура:Отношения знаменитостей: Сем...</td>\n",
       "    </tr>\n",
       "    <tr>\n",
       "      <th>1045</th>\n",
       "      <td>4ffa5fbb2a410aa841659d8890ae5e3f</td>\n",
       "      <td>[Дом и сад, Дом и сад: Наружная отделка, Дом и...</td>\n",
       "      <td>Еда и напитки: Кулинария</td>\n",
       "    </tr>\n",
       "    <tr>\n",
       "      <th>1046</th>\n",
       "      <td>3fc81df4bfe121ce2bc33dd581f5efeb</td>\n",
       "      <td>[Семья и отношения: Смерть родственников, Спор...</td>\n",
       "      <td>Спорт</td>\n",
       "    </tr>\n",
       "    <tr>\n",
       "      <th>1047</th>\n",
       "      <td>efe0b4139ef82ec270b9e2fe0216214e</td>\n",
       "      <td>[Религия и духовность: Агностицизм, Религия и ...</td>\n",
       "      <td>Книги и литература: Поэзия, Музыка и аудио,  К...</td>\n",
       "    </tr>\n",
       "    <tr>\n",
       "      <th>1048</th>\n",
       "      <td>fff1ef66d848bc8987ac5126f05b053b</td>\n",
       "      <td>[Религия и духовность: Буддизм, Медицина: Меди...</td>\n",
       "      <td>Музыка и аудио:Современная музыка</td>\n",
       "    </tr>\n",
       "  </tbody>\n",
       "</table>\n",
       "<p>1049 rows × 3 columns</p>\n",
       "</div>"
      ]
     },
     "execution_count": 104,
     "metadata": {},
     "output_type": "execute_result"
    }
   ],
   "execution_count": 104
  },
  {
   "metadata": {},
   "cell_type": "code",
   "outputs": [],
   "execution_count": null,
   "source": "",
   "id": "f94e857d49bbc827"
  }
 ],
 "metadata": {
  "kernelspec": {
   "display_name": "Python 3",
   "language": "python",
   "name": "python3"
  },
  "language_info": {
   "codemirror_mode": {
    "name": "ipython",
    "version": 2
   },
   "file_extension": ".py",
   "mimetype": "text/x-python",
   "name": "python",
   "nbconvert_exporter": "python",
   "pygments_lexer": "ipython2",
   "version": "2.7.6"
  }
 },
 "nbformat": 4,
 "nbformat_minor": 5
}
